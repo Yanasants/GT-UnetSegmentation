{
 "cells": [
  {
   "cell_type": "code",
   "execution_count": 9,
   "metadata": {},
   "outputs": [],
   "source": [
    "\n",
    "import numpy as np\n",
    "import glob\n",
    "\n",
    "from utils import load_images_array\n",
    "from dice_ev import dice_coef\n",
    "from utils_metrics import calcula_metricas"
   ]
  },
  {
   "cell_type": "code",
   "execution_count": 3,
   "metadata": {},
   "outputs": [],
   "source": [
    "\n",
    "\n",
    "TEMPO = []\n",
    "ORIGINAL_SIZE = 850\n",
    "NEW_SIZE = 256\n",
    "\n",
    "# Choose train folder TM40 ou TM46\n",
    "_folder = './girino'\n",
    "\n",
    "pred_imgs = sorted(glob.glob(_folder + '/pred/*'))\n",
    "norm_imgs = sorted(glob.glob(_folder + '/norm/*'))\n",
    "\n",
    "gt = load_images_array(pred_imgs, new_size = NEW_SIZE)\n",
    "norm = load_images_array(norm_imgs, new_size = NEW_SIZE) #tem de ser o GT\n"
   ]
  },
  {
   "cell_type": "code",
   "execution_count": 4,
   "metadata": {},
   "outputs": [
    {
     "name": "stdout",
     "output_type": "stream",
     "text": [
      "<class 'numpy.ndarray'>\n"
     ]
    }
   ],
   "source": [
    "\n",
    "print(type(norm)) "
   ]
  },
  {
   "cell_type": "code",
   "execution_count": 5,
   "metadata": {},
   "outputs": [
    {
     "name": "stderr",
     "output_type": "stream",
     "text": [
      "2022-12-05 11:23:18.154642: I tensorflow/core/platform/cpu_feature_guard.cc:142] This TensorFlow binary is optimized with oneAPI Deep Neural Network Library (oneDNN) to use the following CPU instructions in performance-critical operations:  SSE4.1 SSE4.2 AVX AVX2 FMA\n",
      "To enable them in other operations, rebuild TensorFlow with the appropriate compiler flags.\n",
      "2022-12-05 11:23:18.165206: I tensorflow/core/common_runtime/process_util.cc:146] Creating new thread pool with default inter op setting: 2. Tune using inter_op_parallelism_threads for best performance.\n"
     ]
    },
    {
     "name": "stdout",
     "output_type": "stream",
     "text": [
      "tf.Tensor(0.07037453, shape=(), dtype=float32)\n"
     ]
    }
   ],
   "source": [
    "# Vitor e Eduardo\n",
    "dice = dice_coef(norm.astype('float32'), gt.reshape(norm.shape).astype('float32'))\n",
    "print(dice)"
   ]
  },
  {
   "cell_type": "code",
   "execution_count": null,
   "metadata": {},
   "outputs": [],
   "source": [
    "# LabIC\n",
    "#iou_list, dice_list = calcula_metricas(GT_Test_dice, new_predicao)  "
   ]
  },
  {
   "cell_type": "code",
   "execution_count": 6,
   "metadata": {},
   "outputs": [],
   "source": [
    "gt = np.stack(gt)\n",
    "norm = np.stack(norm)"
   ]
  },
  {
   "cell_type": "code",
   "execution_count": 7,
   "metadata": {},
   "outputs": [
    {
     "name": "stdout",
     "output_type": "stream",
     "text": [
      "<class 'numpy.ndarray'>\n"
     ]
    }
   ],
   "source": [
    "print(type(norm)) # Verificar se há mudança de tipo, caso não, o stack pode ser retirado"
   ]
  },
  {
   "cell_type": "code",
   "execution_count": 8,
   "metadata": {},
   "outputs": [
    {
     "name": "stdout",
     "output_type": "stream",
     "text": [
      "tf.Tensor(0.07037453, shape=(), dtype=float32)\n"
     ]
    }
   ],
   "source": [
    "dice = dice_coef(norm.astype('float32'), gt.reshape(norm.shape).astype('float32'))\n",
    "print(dice)\n",
    "#dc1 = dice_coef(y_new.astype('float32'), y_pred1.astype('float32'))"
   ]
  },
  {
   "cell_type": "code",
   "execution_count": null,
   "metadata": {},
   "outputs": [],
   "source": []
  }
 ],
 "metadata": {
  "interpreter": {
   "hash": "60a9d5fcb5f281e9350929d72205b3912e1bd3a7b293f8ff0a6165540a23add7"
  },
  "kernelspec": {
   "display_name": "Python 3.9.12 ('UnetSegmentation')",
   "language": "python",
   "name": "python3"
  },
  "language_info": {
   "codemirror_mode": {
    "name": "ipython",
    "version": 3
   },
   "file_extension": ".py",
   "mimetype": "text/x-python",
   "name": "python",
   "nbconvert_exporter": "python",
   "pygments_lexer": "ipython3",
   "version": "3.9.12"
  },
  "orig_nbformat": 4
 },
 "nbformat": 4,
 "nbformat_minor": 2
}

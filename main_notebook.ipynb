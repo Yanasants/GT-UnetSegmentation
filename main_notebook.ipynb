{
 "cells": [
  {
   "cell_type": "code",
   "execution_count": 14,
   "metadata": {},
   "outputs": [],
   "source": [
    "from labic_images_segmentation import Dataset, DataAugmentation, SegmentationModel, SaveReport, PredictImages, DiceCoef\n",
    "import tensorflow as tf"
   ]
  },
  {
   "cell_type": "code",
   "execution_count": 15,
   "metadata": {},
   "outputs": [],
   "source": [
    "dataset_folder = \"./TM40_Original\"\n",
    "norm_imgs_folder = \"/Norm_images/*\"\n",
    "gt_folder = \"/GT_images/*\"\n",
    "\n",
    "output_folder = \"./TM40_46Prod\"\n",
    "test_imgs_folder = \"/Producao/*\"\n",
    "gt_test_folder = \"/GT_Producao/*\"\n",
    "\n",
    "ORIGINAL_SIZE = 256\n",
    "NEW_SIZE = 128\n",
    "\n",
    "n_fold = 1\n",
    "batch_size = 4\n",
    "epochs = 2\n",
    "\n",
    "early_stopping = tf.keras.callbacks.EarlyStopping(monitor='val_loss', mode='min', verbose=0, patience=50)"
   ]
  },
  {
   "cell_type": "code",
   "execution_count": 16,
   "metadata": {},
   "outputs": [
    {
     "name": "stdout",
     "output_type": "stream",
     "text": [
      "\n",
      "Imagens carregadas com sucesso.\n"
     ]
    }
   ],
   "source": [
    "imgs = Dataset(folder=dataset_folder, norm_imgs_folder=norm_imgs_folder, gt_folder=gt_folder, NEW_SIZE=NEW_SIZE)"
   ]
  },
  {
   "cell_type": "code",
   "execution_count": 17,
   "metadata": {},
   "outputs": [
    {
     "name": "stdout",
     "output_type": "stream",
     "text": [
      "\n",
      "Dataset subdividido.\n",
      "20.0% dos dados para validação.\n",
      "80.0% dos dados para treino.\n"
     ]
    }
   ],
   "source": [
    "imgs.split_dataset()"
   ]
  },
  {
   "cell_type": "code",
   "execution_count": 18,
   "metadata": {},
   "outputs": [
    {
     "name": "stdout",
     "output_type": "stream",
     "text": [
      "\n",
      "Etapa de Data Augmentation concluída.\n"
     ]
    }
   ],
   "source": [
    "data_aug = DataAugmentation(imgs.X_train, imgs.Y_train, imgs.X_val, imgs.Y_val)"
   ]
  },
  {
   "cell_type": "code",
   "execution_count": 19,
   "metadata": {},
   "outputs": [
    {
     "name": "stdout",
     "output_type": "stream",
     "text": [
      "Epoch 1/2\n",
      "233/233 [==============================] - 12s 42ms/step - loss: 0.3757 - iou_score: 0.6818 - val_loss: 0.9729 - val_iou_score: 0.2971\n",
      "Epoch 2/2\n",
      "233/233 [==============================] - 9s 40ms/step - loss: 0.1129 - iou_score: 0.9006 - val_loss: 0.2216 - val_iou_score: 0.8184\n"
     ]
    }
   ],
   "source": [
    "segment = SegmentationModel(X_train=imgs.X_train, trainDS=data_aug.trainDS, valDS=data_aug.valDS, epochs=epochs, callback=early_stopping)"
   ]
  },
  {
   "cell_type": "code",
   "execution_count": 20,
   "metadata": {},
   "outputs": [
    {
     "name": "stdout",
     "output_type": "stream",
     "text": [
      "Diretorio  ./TM40_46Prod/outputs/Exec_2023-04-16-18-32-18.025849  ja existe\n",
      "Diretorio  ./TM40_46Prod/outputs/Exec_2023-04-16-18-32-18.025849/fold_1  Criado \n",
      "\n",
      "Modelo salvo.\n",
      "Nome: model_4_2_exec_2023-04-16-18-32-18.025849_fold_1\n",
      "Salvo em: ./TM40_46Prod/outputs/Exec_2023-04-16-18-32-18.025849\n"
     ]
    }
   ],
   "source": [
    "save_report = SaveReport(model=segment.model, folder_name=output_folder, n_fold=n_fold, use_batch_size=batch_size, epochs=epochs)"
   ]
  },
  {
   "cell_type": "code",
   "execution_count": 21,
   "metadata": {},
   "outputs": [
    {
     "name": "stdout",
     "output_type": "stream",
     "text": [
      "\n",
      "Imagens carregadas com sucesso.\n"
     ]
    }
   ],
   "source": [
    "test_imgs = Dataset(folder=output_folder, norm_imgs_folder=test_imgs_folder, gt_folder=gt_test_folder, NEW_SIZE=NEW_SIZE)"
   ]
  },
  {
   "cell_type": "code",
   "execution_count": 22,
   "metadata": {},
   "outputs": [
    {
     "name": "stdout",
     "output_type": "stream",
     "text": [
      "Diretorio  ./TM40_46Prod/outputs/Exec_2023-04-16-18-32-18.025849/fold_1/outputs_prod  Criado \n"
     ]
    },
    {
     "name": "stderr",
     "output_type": "stream",
     "text": [
      "c:\\Yana\\girino_att_Yana\\girino-segmentation\\labic_images_segmentation.py:237: UserWarning: ./TM40_46Prod/outputs/Exec_2023-04-16-18-32-18.025849/fold_1/outputs_prod/predicao_025_4.png is a low contrast image\n",
      "  io.imsave(self.n_fold_folder_name + '/outputs_prod/predicao_%s_%s.png'%(str(self.test_images.GT_imgs[i][-7:-4]), str(self.batch)),\\\n",
      "c:\\Yana\\girino_att_Yana\\girino-segmentation\\labic_images_segmentation.py:237: UserWarning: ./TM40_46Prod/outputs/Exec_2023-04-16-18-32-18.025849/fold_1/outputs_prod/predicao_026_4.png is a low contrast image\n",
      "  io.imsave(self.n_fold_folder_name + '/outputs_prod/predicao_%s_%s.png'%(str(self.test_images.GT_imgs[i][-7:-4]), str(self.batch)),\\\n",
      "c:\\Yana\\girino_att_Yana\\girino-segmentation\\labic_images_segmentation.py:237: UserWarning: ./TM40_46Prod/outputs/Exec_2023-04-16-18-32-18.025849/fold_1/outputs_prod/predicao_027_4.png is a low contrast image\n",
      "  io.imsave(self.n_fold_folder_name + '/outputs_prod/predicao_%s_%s.png'%(str(self.test_images.GT_imgs[i][-7:-4]), str(self.batch)),\\\n",
      "c:\\Yana\\girino_att_Yana\\girino-segmentation\\labic_images_segmentation.py:237: UserWarning: ./TM40_46Prod/outputs/Exec_2023-04-16-18-32-18.025849/fold_1/outputs_prod/predicao_028_4.png is a low contrast image\n",
      "  io.imsave(self.n_fold_folder_name + '/outputs_prod/predicao_%s_%s.png'%(str(self.test_images.GT_imgs[i][-7:-4]), str(self.batch)),\\\n",
      "c:\\Yana\\girino_att_Yana\\girino-segmentation\\labic_images_segmentation.py:237: UserWarning: ./TM40_46Prod/outputs/Exec_2023-04-16-18-32-18.025849/fold_1/outputs_prod/predicao_029_4.png is a low contrast image\n",
      "  io.imsave(self.n_fold_folder_name + '/outputs_prod/predicao_%s_%s.png'%(str(self.test_images.GT_imgs[i][-7:-4]), str(self.batch)),\\\n",
      "c:\\Yana\\girino_att_Yana\\girino-segmentation\\labic_images_segmentation.py:237: UserWarning: ./TM40_46Prod/outputs/Exec_2023-04-16-18-32-18.025849/fold_1/outputs_prod/predicao_030_4.png is a low contrast image\n",
      "  io.imsave(self.n_fold_folder_name + '/outputs_prod/predicao_%s_%s.png'%(str(self.test_images.GT_imgs[i][-7:-4]), str(self.batch)),\\\n",
      "c:\\Yana\\girino_att_Yana\\girino-segmentation\\labic_images_segmentation.py:237: UserWarning: ./TM40_46Prod/outputs/Exec_2023-04-16-18-32-18.025849/fold_1/outputs_prod/predicao_031_4.png is a low contrast image\n",
      "  io.imsave(self.n_fold_folder_name + '/outputs_prod/predicao_%s_%s.png'%(str(self.test_images.GT_imgs[i][-7:-4]), str(self.batch)),\\\n",
      "c:\\Yana\\girino_att_Yana\\girino-segmentation\\labic_images_segmentation.py:237: UserWarning: ./TM40_46Prod/outputs/Exec_2023-04-16-18-32-18.025849/fold_1/outputs_prod/predicao_032_4.png is a low contrast image\n",
      "  io.imsave(self.n_fold_folder_name + '/outputs_prod/predicao_%s_%s.png'%(str(self.test_images.GT_imgs[i][-7:-4]), str(self.batch)),\\\n",
      "c:\\Yana\\girino_att_Yana\\girino-segmentation\\labic_images_segmentation.py:237: UserWarning: ./TM40_46Prod/outputs/Exec_2023-04-16-18-32-18.025849/fold_1/outputs_prod/predicao_033_4.png is a low contrast image\n",
      "  io.imsave(self.n_fold_folder_name + '/outputs_prod/predicao_%s_%s.png'%(str(self.test_images.GT_imgs[i][-7:-4]), str(self.batch)),\\\n",
      "c:\\Yana\\girino_att_Yana\\girino-segmentation\\labic_images_segmentation.py:237: UserWarning: ./TM40_46Prod/outputs/Exec_2023-04-16-18-32-18.025849/fold_1/outputs_prod/predicao_034_4.png is a low contrast image\n",
      "  io.imsave(self.n_fold_folder_name + '/outputs_prod/predicao_%s_%s.png'%(str(self.test_images.GT_imgs[i][-7:-4]), str(self.batch)),\\\n",
      "c:\\Yana\\girino_att_Yana\\girino-segmentation\\labic_images_segmentation.py:237: UserWarning: ./TM40_46Prod/outputs/Exec_2023-04-16-18-32-18.025849/fold_1/outputs_prod/predicao_035_4.png is a low contrast image\n",
      "  io.imsave(self.n_fold_folder_name + '/outputs_prod/predicao_%s_%s.png'%(str(self.test_images.GT_imgs[i][-7:-4]), str(self.batch)),\\\n",
      "c:\\Yana\\girino_att_Yana\\girino-segmentation\\labic_images_segmentation.py:237: UserWarning: ./TM40_46Prod/outputs/Exec_2023-04-16-18-32-18.025849/fold_1/outputs_prod/predicao_036_4.png is a low contrast image\n",
      "  io.imsave(self.n_fold_folder_name + '/outputs_prod/predicao_%s_%s.png'%(str(self.test_images.GT_imgs[i][-7:-4]), str(self.batch)),\\\n",
      "c:\\Yana\\girino_att_Yana\\girino-segmentation\\labic_images_segmentation.py:237: UserWarning: ./TM40_46Prod/outputs/Exec_2023-04-16-18-32-18.025849/fold_1/outputs_prod/predicao_037_4.png is a low contrast image\n",
      "  io.imsave(self.n_fold_folder_name + '/outputs_prod/predicao_%s_%s.png'%(str(self.test_images.GT_imgs[i][-7:-4]), str(self.batch)),\\\n",
      "c:\\Yana\\girino_att_Yana\\girino-segmentation\\labic_images_segmentation.py:237: UserWarning: ./TM40_46Prod/outputs/Exec_2023-04-16-18-32-18.025849/fold_1/outputs_prod/predicao_038_4.png is a low contrast image\n",
      "  io.imsave(self.n_fold_folder_name + '/outputs_prod/predicao_%s_%s.png'%(str(self.test_images.GT_imgs[i][-7:-4]), str(self.batch)),\\\n",
      "c:\\Yana\\girino_att_Yana\\girino-segmentation\\labic_images_segmentation.py:237: UserWarning: ./TM40_46Prod/outputs/Exec_2023-04-16-18-32-18.025849/fold_1/outputs_prod/predicao_039_4.png is a low contrast image\n",
      "  io.imsave(self.n_fold_folder_name + '/outputs_prod/predicao_%s_%s.png'%(str(self.test_images.GT_imgs[i][-7:-4]), str(self.batch)),\\\n",
      "c:\\Yana\\girino_att_Yana\\girino-segmentation\\labic_images_segmentation.py:237: UserWarning: ./TM40_46Prod/outputs/Exec_2023-04-16-18-32-18.025849/fold_1/outputs_prod/predicao_040_4.png is a low contrast image\n",
      "  io.imsave(self.n_fold_folder_name + '/outputs_prod/predicao_%s_%s.png'%(str(self.test_images.GT_imgs[i][-7:-4]), str(self.batch)),\\\n",
      "c:\\Yana\\girino_att_Yana\\girino-segmentation\\labic_images_segmentation.py:237: UserWarning: ./TM40_46Prod/outputs/Exec_2023-04-16-18-32-18.025849/fold_1/outputs_prod/predicao_041_4.png is a low contrast image\n",
      "  io.imsave(self.n_fold_folder_name + '/outputs_prod/predicao_%s_%s.png'%(str(self.test_images.GT_imgs[i][-7:-4]), str(self.batch)),\\\n",
      "c:\\Yana\\girino_att_Yana\\girino-segmentation\\labic_images_segmentation.py:237: UserWarning: ./TM40_46Prod/outputs/Exec_2023-04-16-18-32-18.025849/fold_1/outputs_prod/predicao_042_4.png is a low contrast image\n",
      "  io.imsave(self.n_fold_folder_name + '/outputs_prod/predicao_%s_%s.png'%(str(self.test_images.GT_imgs[i][-7:-4]), str(self.batch)),\\\n",
      "c:\\Yana\\girino_att_Yana\\girino-segmentation\\labic_images_segmentation.py:237: UserWarning: ./TM40_46Prod/outputs/Exec_2023-04-16-18-32-18.025849/fold_1/outputs_prod/predicao_043_4.png is a low contrast image\n",
      "  io.imsave(self.n_fold_folder_name + '/outputs_prod/predicao_%s_%s.png'%(str(self.test_images.GT_imgs[i][-7:-4]), str(self.batch)),\\\n",
      "c:\\Yana\\girino_att_Yana\\girino-segmentation\\labic_images_segmentation.py:237: UserWarning: ./TM40_46Prod/outputs/Exec_2023-04-16-18-32-18.025849/fold_1/outputs_prod/predicao_044_4.png is a low contrast image\n",
      "  io.imsave(self.n_fold_folder_name + '/outputs_prod/predicao_%s_%s.png'%(str(self.test_images.GT_imgs[i][-7:-4]), str(self.batch)),\\\n",
      "c:\\Yana\\girino_att_Yana\\girino-segmentation\\labic_images_segmentation.py:237: UserWarning: ./TM40_46Prod/outputs/Exec_2023-04-16-18-32-18.025849/fold_1/outputs_prod/predicao_045_4.png is a low contrast image\n",
      "  io.imsave(self.n_fold_folder_name + '/outputs_prod/predicao_%s_%s.png'%(str(self.test_images.GT_imgs[i][-7:-4]), str(self.batch)),\\\n",
      "c:\\Yana\\girino_att_Yana\\girino-segmentation\\labic_images_segmentation.py:237: UserWarning: ./TM40_46Prod/outputs/Exec_2023-04-16-18-32-18.025849/fold_1/outputs_prod/predicao_046_4.png is a low contrast image\n",
      "  io.imsave(self.n_fold_folder_name + '/outputs_prod/predicao_%s_%s.png'%(str(self.test_images.GT_imgs[i][-7:-4]), str(self.batch)),\\\n",
      "c:\\Yana\\girino_att_Yana\\girino-segmentation\\labic_images_segmentation.py:237: UserWarning: ./TM40_46Prod/outputs/Exec_2023-04-16-18-32-18.025849/fold_1/outputs_prod/predicao_047_4.png is a low contrast image\n",
      "  io.imsave(self.n_fold_folder_name + '/outputs_prod/predicao_%s_%s.png'%(str(self.test_images.GT_imgs[i][-7:-4]), str(self.batch)),\\\n"
     ]
    },
    {
     "name": "stdout",
     "output_type": "stream",
     "text": [
      "\n",
      "Imagens preditas com sucesso.\n"
     ]
    },
    {
     "name": "stderr",
     "output_type": "stream",
     "text": [
      "c:\\Yana\\girino_att_Yana\\girino-segmentation\\labic_images_segmentation.py:237: UserWarning: ./TM40_46Prod/outputs/Exec_2023-04-16-18-32-18.025849/fold_1/outputs_prod/predicao_404_4.png is a low contrast image\n",
      "  io.imsave(self.n_fold_folder_name + '/outputs_prod/predicao_%s_%s.png'%(str(self.test_images.GT_imgs[i][-7:-4]), str(self.batch)),\\\n",
      "c:\\Yana\\girino_att_Yana\\girino-segmentation\\labic_images_segmentation.py:237: UserWarning: ./TM40_46Prod/outputs/Exec_2023-04-16-18-32-18.025849/fold_1/outputs_prod/predicao_405_4.png is a low contrast image\n",
      "  io.imsave(self.n_fold_folder_name + '/outputs_prod/predicao_%s_%s.png'%(str(self.test_images.GT_imgs[i][-7:-4]), str(self.batch)),\\\n",
      "c:\\Yana\\girino_att_Yana\\girino-segmentation\\labic_images_segmentation.py:237: UserWarning: ./TM40_46Prod/outputs/Exec_2023-04-16-18-32-18.025849/fold_1/outputs_prod/predicao_406_4.png is a low contrast image\n",
      "  io.imsave(self.n_fold_folder_name + '/outputs_prod/predicao_%s_%s.png'%(str(self.test_images.GT_imgs[i][-7:-4]), str(self.batch)),\\\n",
      "c:\\Yana\\girino_att_Yana\\girino-segmentation\\labic_images_segmentation.py:237: UserWarning: ./TM40_46Prod/outputs/Exec_2023-04-16-18-32-18.025849/fold_1/outputs_prod/predicao_407_4.png is a low contrast image\n",
      "  io.imsave(self.n_fold_folder_name + '/outputs_prod/predicao_%s_%s.png'%(str(self.test_images.GT_imgs[i][-7:-4]), str(self.batch)),\\\n",
      "c:\\Yana\\girino_att_Yana\\girino-segmentation\\labic_images_segmentation.py:237: UserWarning: ./TM40_46Prod/outputs/Exec_2023-04-16-18-32-18.025849/fold_1/outputs_prod/predicao_408_4.png is a low contrast image\n",
      "  io.imsave(self.n_fold_folder_name + '/outputs_prod/predicao_%s_%s.png'%(str(self.test_images.GT_imgs[i][-7:-4]), str(self.batch)),\\\n",
      "c:\\Yana\\girino_att_Yana\\girino-segmentation\\labic_images_segmentation.py:237: UserWarning: ./TM40_46Prod/outputs/Exec_2023-04-16-18-32-18.025849/fold_1/outputs_prod/predicao_409_4.png is a low contrast image\n",
      "  io.imsave(self.n_fold_folder_name + '/outputs_prod/predicao_%s_%s.png'%(str(self.test_images.GT_imgs[i][-7:-4]), str(self.batch)),\\\n",
      "c:\\Yana\\girino_att_Yana\\girino-segmentation\\labic_images_segmentation.py:237: UserWarning: ./TM40_46Prod/outputs/Exec_2023-04-16-18-32-18.025849/fold_1/outputs_prod/predicao_410_4.png is a low contrast image\n",
      "  io.imsave(self.n_fold_folder_name + '/outputs_prod/predicao_%s_%s.png'%(str(self.test_images.GT_imgs[i][-7:-4]), str(self.batch)),\\\n",
      "c:\\Yana\\girino_att_Yana\\girino-segmentation\\labic_images_segmentation.py:237: UserWarning: ./TM40_46Prod/outputs/Exec_2023-04-16-18-32-18.025849/fold_1/outputs_prod/predicao_411_4.png is a low contrast image\n",
      "  io.imsave(self.n_fold_folder_name + '/outputs_prod/predicao_%s_%s.png'%(str(self.test_images.GT_imgs[i][-7:-4]), str(self.batch)),\\\n",
      "c:\\Yana\\girino_att_Yana\\girino-segmentation\\labic_images_segmentation.py:237: UserWarning: ./TM40_46Prod/outputs/Exec_2023-04-16-18-32-18.025849/fold_1/outputs_prod/predicao_412_4.png is a low contrast image\n",
      "  io.imsave(self.n_fold_folder_name + '/outputs_prod/predicao_%s_%s.png'%(str(self.test_images.GT_imgs[i][-7:-4]), str(self.batch)),\\\n",
      "c:\\Yana\\girino_att_Yana\\girino-segmentation\\labic_images_segmentation.py:237: UserWarning: ./TM40_46Prod/outputs/Exec_2023-04-16-18-32-18.025849/fold_1/outputs_prod/predicao_413_4.png is a low contrast image\n",
      "  io.imsave(self.n_fold_folder_name + '/outputs_prod/predicao_%s_%s.png'%(str(self.test_images.GT_imgs[i][-7:-4]), str(self.batch)),\\\n",
      "c:\\Yana\\girino_att_Yana\\girino-segmentation\\labic_images_segmentation.py:237: UserWarning: ./TM40_46Prod/outputs/Exec_2023-04-16-18-32-18.025849/fold_1/outputs_prod/predicao_414_4.png is a low contrast image\n",
      "  io.imsave(self.n_fold_folder_name + '/outputs_prod/predicao_%s_%s.png'%(str(self.test_images.GT_imgs[i][-7:-4]), str(self.batch)),\\\n",
      "c:\\Yana\\girino_att_Yana\\girino-segmentation\\labic_images_segmentation.py:237: UserWarning: ./TM40_46Prod/outputs/Exec_2023-04-16-18-32-18.025849/fold_1/outputs_prod/predicao_415_4.png is a low contrast image\n",
      "  io.imsave(self.n_fold_folder_name + '/outputs_prod/predicao_%s_%s.png'%(str(self.test_images.GT_imgs[i][-7:-4]), str(self.batch)),\\\n",
      "c:\\Yana\\girino_att_Yana\\girino-segmentation\\labic_images_segmentation.py:237: UserWarning: ./TM40_46Prod/outputs/Exec_2023-04-16-18-32-18.025849/fold_1/outputs_prod/predicao_416_4.png is a low contrast image\n",
      "  io.imsave(self.n_fold_folder_name + '/outputs_prod/predicao_%s_%s.png'%(str(self.test_images.GT_imgs[i][-7:-4]), str(self.batch)),\\\n",
      "c:\\Yana\\girino_att_Yana\\girino-segmentation\\labic_images_segmentation.py:237: UserWarning: ./TM40_46Prod/outputs/Exec_2023-04-16-18-32-18.025849/fold_1/outputs_prod/predicao_417_4.png is a low contrast image\n",
      "  io.imsave(self.n_fold_folder_name + '/outputs_prod/predicao_%s_%s.png'%(str(self.test_images.GT_imgs[i][-7:-4]), str(self.batch)),\\\n",
      "c:\\Yana\\girino_att_Yana\\girino-segmentation\\labic_images_segmentation.py:237: UserWarning: ./TM40_46Prod/outputs/Exec_2023-04-16-18-32-18.025849/fold_1/outputs_prod/predicao_418_4.png is a low contrast image\n",
      "  io.imsave(self.n_fold_folder_name + '/outputs_prod/predicao_%s_%s.png'%(str(self.test_images.GT_imgs[i][-7:-4]), str(self.batch)),\\\n",
      "c:\\Yana\\girino_att_Yana\\girino-segmentation\\labic_images_segmentation.py:237: UserWarning: ./TM40_46Prod/outputs/Exec_2023-04-16-18-32-18.025849/fold_1/outputs_prod/predicao_419_4.png is a low contrast image\n",
      "  io.imsave(self.n_fold_folder_name + '/outputs_prod/predicao_%s_%s.png'%(str(self.test_images.GT_imgs[i][-7:-4]), str(self.batch)),\\\n",
      "c:\\Yana\\girino_att_Yana\\girino-segmentation\\labic_images_segmentation.py:237: UserWarning: ./TM40_46Prod/outputs/Exec_2023-04-16-18-32-18.025849/fold_1/outputs_prod/predicao_420_4.png is a low contrast image\n",
      "  io.imsave(self.n_fold_folder_name + '/outputs_prod/predicao_%s_%s.png'%(str(self.test_images.GT_imgs[i][-7:-4]), str(self.batch)),\\\n",
      "c:\\Yana\\girino_att_Yana\\girino-segmentation\\labic_images_segmentation.py:237: UserWarning: ./TM40_46Prod/outputs/Exec_2023-04-16-18-32-18.025849/fold_1/outputs_prod/predicao_421_4.png is a low contrast image\n",
      "  io.imsave(self.n_fold_folder_name + '/outputs_prod/predicao_%s_%s.png'%(str(self.test_images.GT_imgs[i][-7:-4]), str(self.batch)),\\\n",
      "c:\\Yana\\girino_att_Yana\\girino-segmentation\\labic_images_segmentation.py:237: UserWarning: ./TM40_46Prod/outputs/Exec_2023-04-16-18-32-18.025849/fold_1/outputs_prod/predicao_422_4.png is a low contrast image\n",
      "  io.imsave(self.n_fold_folder_name + '/outputs_prod/predicao_%s_%s.png'%(str(self.test_images.GT_imgs[i][-7:-4]), str(self.batch)),\\\n",
      "c:\\Yana\\girino_att_Yana\\girino-segmentation\\labic_images_segmentation.py:237: UserWarning: ./TM40_46Prod/outputs/Exec_2023-04-16-18-32-18.025849/fold_1/outputs_prod/predicao_423_4.png is a low contrast image\n",
      "  io.imsave(self.n_fold_folder_name + '/outputs_prod/predicao_%s_%s.png'%(str(self.test_images.GT_imgs[i][-7:-4]), str(self.batch)),\\\n",
      "c:\\Yana\\girino_att_Yana\\girino-segmentation\\labic_images_segmentation.py:237: UserWarning: ./TM40_46Prod/outputs/Exec_2023-04-16-18-32-18.025849/fold_1/outputs_prod/predicao_424_4.png is a low contrast image\n",
      "  io.imsave(self.n_fold_folder_name + '/outputs_prod/predicao_%s_%s.png'%(str(self.test_images.GT_imgs[i][-7:-4]), str(self.batch)),\\\n",
      "c:\\Yana\\girino_att_Yana\\girino-segmentation\\labic_images_segmentation.py:237: UserWarning: ./TM40_46Prod/outputs/Exec_2023-04-16-18-32-18.025849/fold_1/outputs_prod/predicao_425_4.png is a low contrast image\n",
      "  io.imsave(self.n_fold_folder_name + '/outputs_prod/predicao_%s_%s.png'%(str(self.test_images.GT_imgs[i][-7:-4]), str(self.batch)),\\\n",
      "c:\\Yana\\girino_att_Yana\\girino-segmentation\\labic_images_segmentation.py:237: UserWarning: ./TM40_46Prod/outputs/Exec_2023-04-16-18-32-18.025849/fold_1/outputs_prod/predicao_426_4.png is a low contrast image\n",
      "  io.imsave(self.n_fold_folder_name + '/outputs_prod/predicao_%s_%s.png'%(str(self.test_images.GT_imgs[i][-7:-4]), str(self.batch)),\\\n",
      "c:\\Yana\\girino_att_Yana\\girino-segmentation\\labic_images_segmentation.py:237: UserWarning: ./TM40_46Prod/outputs/Exec_2023-04-16-18-32-18.025849/fold_1/outputs_prod/predicao_427_4.png is a low contrast image\n",
      "  io.imsave(self.n_fold_folder_name + '/outputs_prod/predicao_%s_%s.png'%(str(self.test_images.GT_imgs[i][-7:-4]), str(self.batch)),\\\n",
      "c:\\Yana\\girino_att_Yana\\girino-segmentation\\labic_images_segmentation.py:237: UserWarning: ./TM40_46Prod/outputs/Exec_2023-04-16-18-32-18.025849/fold_1/outputs_prod/predicao_428_4.png is a low contrast image\n",
      "  io.imsave(self.n_fold_folder_name + '/outputs_prod/predicao_%s_%s.png'%(str(self.test_images.GT_imgs[i][-7:-4]), str(self.batch)),\\\n",
      "c:\\Yana\\girino_att_Yana\\girino-segmentation\\labic_images_segmentation.py:237: UserWarning: ./TM40_46Prod/outputs/Exec_2023-04-16-18-32-18.025849/fold_1/outputs_prod/predicao_429_4.png is a low contrast image\n",
      "  io.imsave(self.n_fold_folder_name + '/outputs_prod/predicao_%s_%s.png'%(str(self.test_images.GT_imgs[i][-7:-4]), str(self.batch)),\\\n",
      "c:\\Yana\\girino_att_Yana\\girino-segmentation\\labic_images_segmentation.py:237: UserWarning: ./TM40_46Prod/outputs/Exec_2023-04-16-18-32-18.025849/fold_1/outputs_prod/predicao_430_4.png is a low contrast image\n",
      "  io.imsave(self.n_fold_folder_name + '/outputs_prod/predicao_%s_%s.png'%(str(self.test_images.GT_imgs[i][-7:-4]), str(self.batch)),\\\n",
      "c:\\Yana\\girino_att_Yana\\girino-segmentation\\labic_images_segmentation.py:237: UserWarning: ./TM40_46Prod/outputs/Exec_2023-04-16-18-32-18.025849/fold_1/outputs_prod/predicao_431_4.png is a low contrast image\n",
      "  io.imsave(self.n_fold_folder_name + '/outputs_prod/predicao_%s_%s.png'%(str(self.test_images.GT_imgs[i][-7:-4]), str(self.batch)),\\\n",
      "c:\\Yana\\girino_att_Yana\\girino-segmentation\\labic_images_segmentation.py:237: UserWarning: ./TM40_46Prod/outputs/Exec_2023-04-16-18-32-18.025849/fold_1/outputs_prod/predicao_432_4.png is a low contrast image\n",
      "  io.imsave(self.n_fold_folder_name + '/outputs_prod/predicao_%s_%s.png'%(str(self.test_images.GT_imgs[i][-7:-4]), str(self.batch)),\\\n"
     ]
    }
   ],
   "source": [
    "prediction = PredictImages(test_images=test_imgs, n_fold_folder_name=save_report.n_fold_folder_name, \\\n",
    "                           model_name=save_report.model_name, use_batch_size=batch_size, img_shape=test_imgs.img_shape)"
   ]
  },
  {
   "cell_type": "code",
   "execution_count": 23,
   "metadata": {},
   "outputs": [
    {
     "data": {
      "text/plain": [
       "(408, 128, 128, 1)"
      ]
     },
     "execution_count": 23,
     "metadata": {},
     "output_type": "execute_result"
    }
   ],
   "source": [
    "prediction.new_predicao.shape"
   ]
  },
  {
   "cell_type": "code",
   "execution_count": 24,
   "metadata": {},
   "outputs": [
    {
     "data": {
      "text/plain": [
       "(408, 128, 128, 1)"
      ]
     },
     "execution_count": 24,
     "metadata": {},
     "output_type": "execute_result"
    }
   ],
   "source": [
    "test_imgs.Y.shape"
   ]
  },
  {
   "cell_type": "code",
   "execution_count": 25,
   "metadata": {},
   "outputs": [
    {
     "data": {
      "text/plain": [
       "'./TM40_46Prod/outputs/Exec_2023-04-16-18-32-18.025849/fold_1'"
      ]
     },
     "execution_count": 25,
     "metadata": {},
     "output_type": "execute_result"
    }
   ],
   "source": [
    "prediction.n_fold_folder_name"
   ]
  },
  {
   "cell_type": "code",
   "execution_count": 26,
   "metadata": {},
   "outputs": [
    {
     "name": "stdout",
     "output_type": "stream",
     "text": [
      "Coeficiente Dice: 0.9264891428187463\n"
     ]
    },
    {
     "data": {
      "text/plain": [
       "<labic_images_segmentation.DiceCoef at 0x291bf35ddf0>"
      ]
     },
     "execution_count": 26,
     "metadata": {},
     "output_type": "execute_result"
    }
   ],
   "source": [
    "DiceCoef(gt_imgs=test_imgs.Y, pred_folder=prediction.n_fold_folder_name+\"/outputs_prod/*\", new_size=NEW_SIZE)"
   ]
  }
 ],
 "metadata": {
  "kernelspec": {
   "display_name": "Python 3.9.7 ('tensorflow_env')",
   "language": "python",
   "name": "python3"
  },
  "language_info": {
   "codemirror_mode": {
    "name": "ipython",
    "version": 3
   },
   "file_extension": ".py",
   "mimetype": "text/x-python",
   "name": "python",
   "nbconvert_exporter": "python",
   "pygments_lexer": "ipython3",
   "version": "3.9.7"
  },
  "orig_nbformat": 4,
  "vscode": {
   "interpreter": {
    "hash": "a9b2d7418f8110456649d171dd247ed04bfc0a4e3f77f95117fec2217201beed"
   }
  }
 },
 "nbformat": 4,
 "nbformat_minor": 2
}

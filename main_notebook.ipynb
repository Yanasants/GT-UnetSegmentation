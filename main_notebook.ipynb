{
 "cells": [
  {
   "attachments": {},
   "cell_type": "markdown",
   "metadata": {},
   "source": [
    "### Labic Images Segmentation - Main Notebook"
   ]
  },
  {
   "attachments": {},
   "cell_type": "markdown",
   "metadata": {},
   "source": [
    "#### Importando módulos"
   ]
  },
  {
   "cell_type": "code",
   "execution_count": 31,
   "metadata": {},
   "outputs": [],
   "source": [
    "from labic_images_segmentation import Dataset, DataAugmentation, SegmentationModel, SaveReport, PredictImages, DiceCoef\n",
    "import tensorflow as tf"
   ]
  },
  {
   "attachments": {},
   "cell_type": "markdown",
   "metadata": {},
   "source": [
    "#### Diretórios e parâmetros"
   ]
  },
  {
   "cell_type": "code",
   "execution_count": 32,
   "metadata": {},
   "outputs": [],
   "source": [
    "dataset_folder = \"./TM40_Original\"\n",
    "norm_imgs_folder = \"/Norm_images/*\"\n",
    "gt_folder = \"/GT_images/*\"\n",
    "\n",
    "output_folder = \"./TM40_46Prod\"\n",
    "test_imgs_folder = \"/Producao/*\"\n",
    "gt_test_folder = \"/GT_Producao/*\"\n",
    "\n",
    "ORIGINAL_SIZE = 180\n",
    "NEW_SIZE = 128\n",
    "\n",
    "n_fold = 2\n",
    "\n",
    "batch_size = 4\n",
    "epochs = 10\n",
    "early_stopping = tf.keras.callbacks.EarlyStopping(monitor='val_loss', mode='min', verbose=0, patience=50)"
   ]
  },
  {
   "attachments": {},
   "cell_type": "markdown",
   "metadata": {},
   "source": [
    "#### Treinamento"
   ]
  },
  {
   "attachments": {},
   "cell_type": "markdown",
   "metadata": {},
   "source": [
    "##### Carregando dataset"
   ]
  },
  {
   "cell_type": "code",
   "execution_count": 33,
   "metadata": {},
   "outputs": [
    {
     "name": "stdout",
     "output_type": "stream",
     "text": [
      "\n",
      "Imagens carregadas com sucesso.\n"
     ]
    }
   ],
   "source": [
    "imgs = Dataset(folder=dataset_folder, norm_imgs_folder=norm_imgs_folder, gt_folder=gt_folder, ORIGINAL_SIZE=ORIGINAL_SIZE, NEW_SIZE=NEW_SIZE)"
   ]
  },
  {
   "attachments": {},
   "cell_type": "markdown",
   "metadata": {},
   "source": [
    "##### Dividindo dataset "
   ]
  },
  {
   "cell_type": "code",
   "execution_count": 34,
   "metadata": {},
   "outputs": [
    {
     "name": "stdout",
     "output_type": "stream",
     "text": [
      "\n",
      "Dataset subdividido.\n",
      "20.0% dos dados para validação.\n",
      "80.0% dos dados para treino.\n"
     ]
    }
   ],
   "source": [
    "imgs.split_dataset()"
   ]
  },
  {
   "attachments": {},
   "cell_type": "markdown",
   "metadata": {},
   "source": [
    "##### Data Augmentation"
   ]
  },
  {
   "cell_type": "code",
   "execution_count": 35,
   "metadata": {},
   "outputs": [
    {
     "name": "stdout",
     "output_type": "stream",
     "text": [
      "\n",
      "Etapa de Data Augmentation concluída.\n"
     ]
    }
   ],
   "source": [
    "data_aug = DataAugmentation(imgs.X_train, imgs.Y_train, imgs.X_val, imgs.Y_val)"
   ]
  },
  {
   "attachments": {},
   "cell_type": "markdown",
   "metadata": {},
   "source": [
    "##### Treinamento da rede"
   ]
  },
  {
   "cell_type": "code",
   "execution_count": 36,
   "metadata": {},
   "outputs": [
    {
     "name": "stdout",
     "output_type": "stream",
     "text": [
      "Epoch 1/10\n",
      "233/233 [==============================] - 12s 42ms/step - loss: 0.4735 - iou_score: 0.6107 - val_loss: 1.0066 - val_iou_score: 0.2414\n",
      "Epoch 2/10\n",
      "233/233 [==============================] - 9s 38ms/step - loss: 0.1557 - iou_score: 0.8639 - val_loss: 0.1220 - val_iou_score: 0.8915\n",
      "Epoch 3/10\n",
      "233/233 [==============================] - 9s 40ms/step - loss: 0.0928 - iou_score: 0.9182 - val_loss: 0.0777 - val_iou_score: 0.9316\n",
      "Epoch 4/10\n",
      "233/233 [==============================] - 9s 39ms/step - loss: 0.0641 - iou_score: 0.9433 - val_loss: 0.0748 - val_iou_score: 0.9335\n",
      "Epoch 5/10\n",
      "233/233 [==============================] - 10s 41ms/step - loss: 0.0542 - iou_score: 0.9526 - val_loss: 0.0722 - val_iou_score: 0.9368\n",
      "Epoch 6/10\n",
      "233/233 [==============================] - 11s 46ms/step - loss: 0.0529 - iou_score: 0.9538 - val_loss: 0.0656 - val_iou_score: 0.9414\n",
      "Epoch 7/10\n",
      "233/233 [==============================] - 11s 47ms/step - loss: 0.0433 - iou_score: 0.9619 - val_loss: 0.0713 - val_iou_score: 0.9389\n",
      "Epoch 8/10\n",
      "233/233 [==============================] - 9s 39ms/step - loss: 0.0688 - iou_score: 0.9417 - val_loss: 0.1284 - val_iou_score: 0.8916\n",
      "Epoch 9/10\n",
      "233/233 [==============================] - 10s 41ms/step - loss: 0.0479 - iou_score: 0.9583 - val_loss: 0.0704 - val_iou_score: 0.9393\n",
      "Epoch 10/10\n",
      "233/233 [==============================] - 10s 43ms/step - loss: 0.0410 - iou_score: 0.9647 - val_loss: 0.0400 - val_iou_score: 0.9646\n"
     ]
    }
   ],
   "source": [
    "segment = SegmentationModel(X_train=imgs.X_train, trainDS=data_aug.trainDS, valDS=data_aug.valDS, epochs=epochs, callback=early_stopping)"
   ]
  },
  {
   "attachments": {},
   "cell_type": "markdown",
   "metadata": {},
   "source": [
    "##### Salvando modelo"
   ]
  },
  {
   "cell_type": "code",
   "execution_count": 37,
   "metadata": {},
   "outputs": [
    {
     "name": "stdout",
     "output_type": "stream",
     "text": [
      "Diretorio  ./TM40_46Prod/outputs/Exec_2023-04-17-09-45-24.444390  ja existe\n",
      "Diretorio  ./TM40_46Prod/outputs/Exec_2023-04-17-09-45-24.444390/fold_2  Criado \n",
      "\n",
      "Modelo salvo.\n",
      "Nome: model_4_10_exec_2023-04-17-09-45-24.444390_fold_2\n",
      "Salvo em: ./TM40_46Prod/outputs/Exec_2023-04-17-09-45-24.444390\n"
     ]
    }
   ],
   "source": [
    "save_report = SaveReport(model=segment.model, folder_name=output_folder, n_fold=n_fold, use_batch_size=batch_size, epochs=epochs)"
   ]
  },
  {
   "attachments": {},
   "cell_type": "markdown",
   "metadata": {},
   "source": [
    "#### Predição "
   ]
  },
  {
   "attachments": {},
   "cell_type": "markdown",
   "metadata": {},
   "source": [
    "##### Carregando imagens de teste"
   ]
  },
  {
   "cell_type": "code",
   "execution_count": 38,
   "metadata": {},
   "outputs": [
    {
     "name": "stdout",
     "output_type": "stream",
     "text": [
      "\n",
      "Imagens carregadas com sucesso.\n"
     ]
    }
   ],
   "source": [
    "test_imgs = Dataset(folder=output_folder, norm_imgs_folder=test_imgs_folder, gt_folder=gt_test_folder, ORIGINAL_SIZE=ORIGINAL_SIZE, NEW_SIZE=NEW_SIZE)"
   ]
  },
  {
   "attachments": {},
   "cell_type": "markdown",
   "metadata": {},
   "source": [
    "#### Segmentando imagens de teste"
   ]
  },
  {
   "cell_type": "code",
   "execution_count": 39,
   "metadata": {},
   "outputs": [
    {
     "name": "stdout",
     "output_type": "stream",
     "text": [
      "Diretorio  ./TM40_46Prod/outputs/Exec_2023-04-17-09-45-24.444390/fold_2/outputs_prod  Criado \n"
     ]
    },
    {
     "name": "stderr",
     "output_type": "stream",
     "text": [
      "c:\\Yana\\girino_att_Yana\\girino-segmentation\\labic_images_segmentation.py:238: UserWarning: ./TM40_46Prod/outputs/Exec_2023-04-17-09-45-24.444390/fold_2/outputs_prod/predicao_025_4.png is a low contrast image\n",
      "  io.imsave(self.n_fold_folder_name + '/outputs_prod/predicao_%s_%s.png'%(str(self.test_images.GT_imgs[i][-7:-4]), str(self.batch)),\\\n",
      "c:\\Yana\\girino_att_Yana\\girino-segmentation\\labic_images_segmentation.py:238: UserWarning: ./TM40_46Prod/outputs/Exec_2023-04-17-09-45-24.444390/fold_2/outputs_prod/predicao_026_4.png is a low contrast image\n",
      "  io.imsave(self.n_fold_folder_name + '/outputs_prod/predicao_%s_%s.png'%(str(self.test_images.GT_imgs[i][-7:-4]), str(self.batch)),\\\n",
      "c:\\Yana\\girino_att_Yana\\girino-segmentation\\labic_images_segmentation.py:238: UserWarning: ./TM40_46Prod/outputs/Exec_2023-04-17-09-45-24.444390/fold_2/outputs_prod/predicao_027_4.png is a low contrast image\n",
      "  io.imsave(self.n_fold_folder_name + '/outputs_prod/predicao_%s_%s.png'%(str(self.test_images.GT_imgs[i][-7:-4]), str(self.batch)),\\\n",
      "c:\\Yana\\girino_att_Yana\\girino-segmentation\\labic_images_segmentation.py:238: UserWarning: ./TM40_46Prod/outputs/Exec_2023-04-17-09-45-24.444390/fold_2/outputs_prod/predicao_028_4.png is a low contrast image\n",
      "  io.imsave(self.n_fold_folder_name + '/outputs_prod/predicao_%s_%s.png'%(str(self.test_images.GT_imgs[i][-7:-4]), str(self.batch)),\\\n",
      "c:\\Yana\\girino_att_Yana\\girino-segmentation\\labic_images_segmentation.py:238: UserWarning: ./TM40_46Prod/outputs/Exec_2023-04-17-09-45-24.444390/fold_2/outputs_prod/predicao_029_4.png is a low contrast image\n",
      "  io.imsave(self.n_fold_folder_name + '/outputs_prod/predicao_%s_%s.png'%(str(self.test_images.GT_imgs[i][-7:-4]), str(self.batch)),\\\n",
      "c:\\Yana\\girino_att_Yana\\girino-segmentation\\labic_images_segmentation.py:238: UserWarning: ./TM40_46Prod/outputs/Exec_2023-04-17-09-45-24.444390/fold_2/outputs_prod/predicao_030_4.png is a low contrast image\n",
      "  io.imsave(self.n_fold_folder_name + '/outputs_prod/predicao_%s_%s.png'%(str(self.test_images.GT_imgs[i][-7:-4]), str(self.batch)),\\\n",
      "c:\\Yana\\girino_att_Yana\\girino-segmentation\\labic_images_segmentation.py:238: UserWarning: ./TM40_46Prod/outputs/Exec_2023-04-17-09-45-24.444390/fold_2/outputs_prod/predicao_031_4.png is a low contrast image\n",
      "  io.imsave(self.n_fold_folder_name + '/outputs_prod/predicao_%s_%s.png'%(str(self.test_images.GT_imgs[i][-7:-4]), str(self.batch)),\\\n",
      "c:\\Yana\\girino_att_Yana\\girino-segmentation\\labic_images_segmentation.py:238: UserWarning: ./TM40_46Prod/outputs/Exec_2023-04-17-09-45-24.444390/fold_2/outputs_prod/predicao_032_4.png is a low contrast image\n",
      "  io.imsave(self.n_fold_folder_name + '/outputs_prod/predicao_%s_%s.png'%(str(self.test_images.GT_imgs[i][-7:-4]), str(self.batch)),\\\n",
      "c:\\Yana\\girino_att_Yana\\girino-segmentation\\labic_images_segmentation.py:238: UserWarning: ./TM40_46Prod/outputs/Exec_2023-04-17-09-45-24.444390/fold_2/outputs_prod/predicao_033_4.png is a low contrast image\n",
      "  io.imsave(self.n_fold_folder_name + '/outputs_prod/predicao_%s_%s.png'%(str(self.test_images.GT_imgs[i][-7:-4]), str(self.batch)),\\\n",
      "c:\\Yana\\girino_att_Yana\\girino-segmentation\\labic_images_segmentation.py:238: UserWarning: ./TM40_46Prod/outputs/Exec_2023-04-17-09-45-24.444390/fold_2/outputs_prod/predicao_034_4.png is a low contrast image\n",
      "  io.imsave(self.n_fold_folder_name + '/outputs_prod/predicao_%s_%s.png'%(str(self.test_images.GT_imgs[i][-7:-4]), str(self.batch)),\\\n",
      "c:\\Yana\\girino_att_Yana\\girino-segmentation\\labic_images_segmentation.py:238: UserWarning: ./TM40_46Prod/outputs/Exec_2023-04-17-09-45-24.444390/fold_2/outputs_prod/predicao_035_4.png is a low contrast image\n",
      "  io.imsave(self.n_fold_folder_name + '/outputs_prod/predicao_%s_%s.png'%(str(self.test_images.GT_imgs[i][-7:-4]), str(self.batch)),\\\n",
      "c:\\Yana\\girino_att_Yana\\girino-segmentation\\labic_images_segmentation.py:238: UserWarning: ./TM40_46Prod/outputs/Exec_2023-04-17-09-45-24.444390/fold_2/outputs_prod/predicao_036_4.png is a low contrast image\n",
      "  io.imsave(self.n_fold_folder_name + '/outputs_prod/predicao_%s_%s.png'%(str(self.test_images.GT_imgs[i][-7:-4]), str(self.batch)),\\\n",
      "c:\\Yana\\girino_att_Yana\\girino-segmentation\\labic_images_segmentation.py:238: UserWarning: ./TM40_46Prod/outputs/Exec_2023-04-17-09-45-24.444390/fold_2/outputs_prod/predicao_037_4.png is a low contrast image\n",
      "  io.imsave(self.n_fold_folder_name + '/outputs_prod/predicao_%s_%s.png'%(str(self.test_images.GT_imgs[i][-7:-4]), str(self.batch)),\\\n",
      "c:\\Yana\\girino_att_Yana\\girino-segmentation\\labic_images_segmentation.py:238: UserWarning: ./TM40_46Prod/outputs/Exec_2023-04-17-09-45-24.444390/fold_2/outputs_prod/predicao_038_4.png is a low contrast image\n",
      "  io.imsave(self.n_fold_folder_name + '/outputs_prod/predicao_%s_%s.png'%(str(self.test_images.GT_imgs[i][-7:-4]), str(self.batch)),\\\n",
      "c:\\Yana\\girino_att_Yana\\girino-segmentation\\labic_images_segmentation.py:238: UserWarning: ./TM40_46Prod/outputs/Exec_2023-04-17-09-45-24.444390/fold_2/outputs_prod/predicao_039_4.png is a low contrast image\n",
      "  io.imsave(self.n_fold_folder_name + '/outputs_prod/predicao_%s_%s.png'%(str(self.test_images.GT_imgs[i][-7:-4]), str(self.batch)),\\\n",
      "c:\\Yana\\girino_att_Yana\\girino-segmentation\\labic_images_segmentation.py:238: UserWarning: ./TM40_46Prod/outputs/Exec_2023-04-17-09-45-24.444390/fold_2/outputs_prod/predicao_040_4.png is a low contrast image\n",
      "  io.imsave(self.n_fold_folder_name + '/outputs_prod/predicao_%s_%s.png'%(str(self.test_images.GT_imgs[i][-7:-4]), str(self.batch)),\\\n",
      "c:\\Yana\\girino_att_Yana\\girino-segmentation\\labic_images_segmentation.py:238: UserWarning: ./TM40_46Prod/outputs/Exec_2023-04-17-09-45-24.444390/fold_2/outputs_prod/predicao_041_4.png is a low contrast image\n",
      "  io.imsave(self.n_fold_folder_name + '/outputs_prod/predicao_%s_%s.png'%(str(self.test_images.GT_imgs[i][-7:-4]), str(self.batch)),\\\n",
      "c:\\Yana\\girino_att_Yana\\girino-segmentation\\labic_images_segmentation.py:238: UserWarning: ./TM40_46Prod/outputs/Exec_2023-04-17-09-45-24.444390/fold_2/outputs_prod/predicao_042_4.png is a low contrast image\n",
      "  io.imsave(self.n_fold_folder_name + '/outputs_prod/predicao_%s_%s.png'%(str(self.test_images.GT_imgs[i][-7:-4]), str(self.batch)),\\\n"
     ]
    },
    {
     "name": "stdout",
     "output_type": "stream",
     "text": [
      "\n",
      "Imagens preditas com sucesso.\n"
     ]
    },
    {
     "name": "stderr",
     "output_type": "stream",
     "text": [
      "c:\\Yana\\girino_att_Yana\\girino-segmentation\\labic_images_segmentation.py:238: UserWarning: ./TM40_46Prod/outputs/Exec_2023-04-17-09-45-24.444390/fold_2/outputs_prod/predicao_423_4.png is a low contrast image\n",
      "  io.imsave(self.n_fold_folder_name + '/outputs_prod/predicao_%s_%s.png'%(str(self.test_images.GT_imgs[i][-7:-4]), str(self.batch)),\\\n",
      "c:\\Yana\\girino_att_Yana\\girino-segmentation\\labic_images_segmentation.py:238: UserWarning: ./TM40_46Prod/outputs/Exec_2023-04-17-09-45-24.444390/fold_2/outputs_prod/predicao_424_4.png is a low contrast image\n",
      "  io.imsave(self.n_fold_folder_name + '/outputs_prod/predicao_%s_%s.png'%(str(self.test_images.GT_imgs[i][-7:-4]), str(self.batch)),\\\n",
      "c:\\Yana\\girino_att_Yana\\girino-segmentation\\labic_images_segmentation.py:238: UserWarning: ./TM40_46Prod/outputs/Exec_2023-04-17-09-45-24.444390/fold_2/outputs_prod/predicao_425_4.png is a low contrast image\n",
      "  io.imsave(self.n_fold_folder_name + '/outputs_prod/predicao_%s_%s.png'%(str(self.test_images.GT_imgs[i][-7:-4]), str(self.batch)),\\\n",
      "c:\\Yana\\girino_att_Yana\\girino-segmentation\\labic_images_segmentation.py:238: UserWarning: ./TM40_46Prod/outputs/Exec_2023-04-17-09-45-24.444390/fold_2/outputs_prod/predicao_426_4.png is a low contrast image\n",
      "  io.imsave(self.n_fold_folder_name + '/outputs_prod/predicao_%s_%s.png'%(str(self.test_images.GT_imgs[i][-7:-4]), str(self.batch)),\\\n",
      "c:\\Yana\\girino_att_Yana\\girino-segmentation\\labic_images_segmentation.py:238: UserWarning: ./TM40_46Prod/outputs/Exec_2023-04-17-09-45-24.444390/fold_2/outputs_prod/predicao_427_4.png is a low contrast image\n",
      "  io.imsave(self.n_fold_folder_name + '/outputs_prod/predicao_%s_%s.png'%(str(self.test_images.GT_imgs[i][-7:-4]), str(self.batch)),\\\n",
      "c:\\Yana\\girino_att_Yana\\girino-segmentation\\labic_images_segmentation.py:238: UserWarning: ./TM40_46Prod/outputs/Exec_2023-04-17-09-45-24.444390/fold_2/outputs_prod/predicao_428_4.png is a low contrast image\n",
      "  io.imsave(self.n_fold_folder_name + '/outputs_prod/predicao_%s_%s.png'%(str(self.test_images.GT_imgs[i][-7:-4]), str(self.batch)),\\\n",
      "c:\\Yana\\girino_att_Yana\\girino-segmentation\\labic_images_segmentation.py:238: UserWarning: ./TM40_46Prod/outputs/Exec_2023-04-17-09-45-24.444390/fold_2/outputs_prod/predicao_429_4.png is a low contrast image\n",
      "  io.imsave(self.n_fold_folder_name + '/outputs_prod/predicao_%s_%s.png'%(str(self.test_images.GT_imgs[i][-7:-4]), str(self.batch)),\\\n",
      "c:\\Yana\\girino_att_Yana\\girino-segmentation\\labic_images_segmentation.py:238: UserWarning: ./TM40_46Prod/outputs/Exec_2023-04-17-09-45-24.444390/fold_2/outputs_prod/predicao_430_4.png is a low contrast image\n",
      "  io.imsave(self.n_fold_folder_name + '/outputs_prod/predicao_%s_%s.png'%(str(self.test_images.GT_imgs[i][-7:-4]), str(self.batch)),\\\n",
      "c:\\Yana\\girino_att_Yana\\girino-segmentation\\labic_images_segmentation.py:238: UserWarning: ./TM40_46Prod/outputs/Exec_2023-04-17-09-45-24.444390/fold_2/outputs_prod/predicao_431_4.png is a low contrast image\n",
      "  io.imsave(self.n_fold_folder_name + '/outputs_prod/predicao_%s_%s.png'%(str(self.test_images.GT_imgs[i][-7:-4]), str(self.batch)),\\\n",
      "c:\\Yana\\girino_att_Yana\\girino-segmentation\\labic_images_segmentation.py:238: UserWarning: ./TM40_46Prod/outputs/Exec_2023-04-17-09-45-24.444390/fold_2/outputs_prod/predicao_432_4.png is a low contrast image\n",
      "  io.imsave(self.n_fold_folder_name + '/outputs_prod/predicao_%s_%s.png'%(str(self.test_images.GT_imgs[i][-7:-4]), str(self.batch)),\\\n"
     ]
    }
   ],
   "source": [
    "prediction = PredictImages(test_images=test_imgs, n_fold_folder_name=save_report.n_fold_folder_name, \\\n",
    "                           model_name=save_report.model_name, use_batch_size=batch_size, img_shape=test_imgs.img_shape)"
   ]
  },
  {
   "attachments": {},
   "cell_type": "markdown",
   "metadata": {},
   "source": [
    "##### Salvando DSC"
   ]
  },
  {
   "cell_type": "code",
   "execution_count": 40,
   "metadata": {},
   "outputs": [
    {
     "name": "stdout",
     "output_type": "stream",
     "text": [
      "Coeficiente Dice: 0.9382552600425175\n"
     ]
    }
   ],
   "source": [
    "dice = DiceCoef(gt_imgs=test_imgs.Y, pred_folder=prediction.n_fold_folder_name+\"/outputs_prod/*\", new_size=NEW_SIZE)\n",
    "dice.save_dice(f\"{save_report.n_fold_folder_name}/dice_fold_{n_fold}.txt\")"
   ]
  }
 ],
 "metadata": {
  "kernelspec": {
   "display_name": "Python 3.9.7 ('tensorflow_env')",
   "language": "python",
   "name": "python3"
  },
  "language_info": {
   "codemirror_mode": {
    "name": "ipython",
    "version": 3
   },
   "file_extension": ".py",
   "mimetype": "text/x-python",
   "name": "python",
   "nbconvert_exporter": "python",
   "pygments_lexer": "ipython3",
   "version": "3.9.7"
  },
  "orig_nbformat": 4,
  "vscode": {
   "interpreter": {
    "hash": "a9b2d7418f8110456649d171dd247ed04bfc0a4e3f77f95117fec2217201beed"
   }
  }
 },
 "nbformat": 4,
 "nbformat_minor": 2
}

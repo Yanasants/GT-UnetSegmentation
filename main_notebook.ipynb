{
 "cells": [
  {
   "cell_type": "code",
   "execution_count": 1,
   "metadata": {},
   "outputs": [
    {
     "name": "stdout",
     "output_type": "stream",
     "text": [
      "Segmentation Models: using `keras` framework.\n"
     ]
    }
   ],
   "source": [
    "from labic_images_segmentation import Dataset, DataAugmentation, SegmentationModel, SaveReport\n",
    "import tensorflow as tf\n",
    "from segmentation_models import Unet, Linknet\n",
    "\n",
    "from tensorflow.keras.optimizers import Adam\n",
    "from segmentation_models.losses import bce_jaccard_loss\n",
    "from segmentation_models.metrics import iou_score"
   ]
  },
  {
   "cell_type": "code",
   "execution_count": 2,
   "metadata": {},
   "outputs": [],
   "source": [
    "dataset_folder = \"./TM40_Original\"\n",
    "norm_imgs_folder = \"/Norm_images/*\"\n",
    "gt_folder = \"/GT_images/*\"\n",
    "NEW_SIZE = 128\n",
    "output_folder = \"./TM40_46Prod\"\n",
    "test_imgs_folder = \"/Producao/*\"\n",
    "gt_test_folder = \"/GT_Producao/*\"\n",
    "n_fold = 0\n",
    "batch_size = 4\n",
    "epochs = 2\n",
    "\n",
    "early_stopping = tf.keras.callbacks.EarlyStopping(monitor='val_loss', mode='min', verbose=0, patience=50)"
   ]
  },
  {
   "cell_type": "code",
   "execution_count": 3,
   "metadata": {},
   "outputs": [
    {
     "name": "stdout",
     "output_type": "stream",
     "text": [
      "\n",
      "Imagens carregadas com sucesso.\n"
     ]
    }
   ],
   "source": [
    "imgs = Dataset(folder=dataset_folder, norm_imgs_folder=norm_imgs_folder, gt_folder=gt_folder, NEW_SIZE=NEW_SIZE)"
   ]
  },
  {
   "cell_type": "code",
   "execution_count": 4,
   "metadata": {},
   "outputs": [
    {
     "name": "stdout",
     "output_type": "stream",
     "text": [
      "\n",
      "Dataset subdividido.\n",
      "20.0% dos dados para validação.\n",
      "80.0% dos dados para treino.\n"
     ]
    }
   ],
   "source": [
    "imgs.split_dataset()"
   ]
  },
  {
   "cell_type": "code",
   "execution_count": 5,
   "metadata": {},
   "outputs": [
    {
     "name": "stdout",
     "output_type": "stream",
     "text": [
      "\n",
      "Etapa de Data Augmentation concluída.\n"
     ]
    }
   ],
   "source": [
    "data_aug = DataAugmentation(imgs.X_train, imgs.Y_train, imgs.X_val, imgs.Y_val)"
   ]
  },
  {
   "cell_type": "code",
   "execution_count": 6,
   "metadata": {},
   "outputs": [
    {
     "name": "stdout",
     "output_type": "stream",
     "text": [
      "Epoch 1/2\n",
      "233/233 [==============================] - 19s 51ms/step - loss: 1.1483 - iou_score: 0.0437 - val_loss: 1.1418 - val_iou_score: 0.0410\n",
      "Epoch 2/2\n",
      "233/233 [==============================] - 10s 42ms/step - loss: 1.1044 - iou_score: 0.0467 - val_loss: 1.1195 - val_iou_score: 0.0424\n"
     ]
    }
   ],
   "source": [
    "segment = SegmentationModel(X_train=imgs.X_train, trainDS=data_aug.trainDS, valDS=data_aug.valDS, epochs=epochs, callback=early_stopping)"
   ]
  },
  {
   "cell_type": "code",
   "execution_count": 7,
   "metadata": {},
   "outputs": [
    {
     "name": "stdout",
     "output_type": "stream",
     "text": [
      "Diretorio  ./TM40_46Prod/outputs/Exec_2023-04-15-22-06-08.205712  Criado \n",
      "Diretorio  ./TM40_46Prod/outputs/Exec_2023-04-15-22-06-08.205712/fold_0  Criado \n",
      "\n",
      "Modelo salvo.\n",
      "Nome: model_4_2_exec_2023-04-15-22-06-08.205712_fold_0\n",
      "Salvo em: ./TM40_46Prod/outputs/Exec_2023-04-15-22-06-08.205712\n"
     ]
    }
   ],
   "source": [
    "save_report = SaveReport(model=segment.model, folder_name=output_folder, n_fold=n_fold, use_batch_size=batch_size, epochs=epochs)"
   ]
  },
  {
   "cell_type": "code",
   "execution_count": 8,
   "metadata": {},
   "outputs": [
    {
     "name": "stdout",
     "output_type": "stream",
     "text": [
      "\n",
      "Imagens carregadas com sucesso.\n"
     ]
    }
   ],
   "source": [
    "test_imgs = Dataset(folder=output_folder, norm_imgs_folder=test_imgs_folder, gt_folder=gt_test_folder, NEW_SIZE=NEW_SIZE)"
   ]
  },
  {
   "cell_type": "code",
   "execution_count": null,
   "metadata": {},
   "outputs": [],
   "source": []
  }
 ],
 "metadata": {
  "kernelspec": {
   "display_name": "Python 3.9.7 ('tensorflow_env')",
   "language": "python",
   "name": "python3"
  },
  "language_info": {
   "codemirror_mode": {
    "name": "ipython",
    "version": 3
   },
   "file_extension": ".py",
   "mimetype": "text/x-python",
   "name": "python",
   "nbconvert_exporter": "python",
   "pygments_lexer": "ipython3",
   "version": "3.9.7"
  },
  "orig_nbformat": 4,
  "vscode": {
   "interpreter": {
    "hash": "a9b2d7418f8110456649d171dd247ed04bfc0a4e3f77f95117fec2217201beed"
   }
  }
 },
 "nbformat": 4,
 "nbformat_minor": 2
}

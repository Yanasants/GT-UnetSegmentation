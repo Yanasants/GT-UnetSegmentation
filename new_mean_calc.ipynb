{
 "cells": [
  {
   "cell_type": "markdown",
   "metadata": {},
   "source": [
    "#### Calculando Coeficiente Dice"
   ]
  },
  {
   "cell_type": "code",
   "execution_count": 21,
   "metadata": {},
   "outputs": [],
   "source": [
    "import numpy as np\n",
    "import glob\n",
    "\n",
    "from utils import load_images_array"
   ]
  },
  {
   "cell_type": "code",
   "execution_count": 22,
   "metadata": {},
   "outputs": [],
   "source": [
    "# Carregando as imagens\n",
    "ORIGINAL_SIZE = 850\n",
    "NEW_SIZE = 256\n",
    "\n",
    "_folder = './TM40_Original'\n",
    "\n",
    "GT_imgs = sorted(glob.glob('GT_Producao/*'))\n",
    "pred_imgs = sorted(glob.glob('pred_imgs/*'))"
   ]
  },
  {
   "cell_type": "code",
   "execution_count": 40,
   "metadata": {},
   "outputs": [],
   "source": [
    "# Carregando as imagens em array\n",
    "gt = load_images_array(GT_imgs, new_size = NEW_SIZE)\n",
    "pred = load_images_array(pred_imgs, new_size = NEW_SIZE)"
   ]
  },
  {
   "cell_type": "markdown",
   "metadata": {},
   "source": [
    "#### Note que o formato do input utilizado no laboratório é idêntico ao utilizado por Vitor e Eduardo com o np.stack"
   ]
  },
  {
   "cell_type": "code",
   "execution_count": 41,
   "metadata": {},
   "outputs": [
    {
     "name": "stdout",
     "output_type": "stream",
     "text": [
      "Tipo: <class 'numpy.ndarray'> | Formato: (408, 256, 256, 1)\n"
     ]
    }
   ],
   "source": [
    "# Utilizado no laboratório\n",
    "print(f'Tipo: {type(pred)} | Formato: {pred.shape}') "
   ]
  },
  {
   "cell_type": "code",
   "execution_count": 42,
   "metadata": {},
   "outputs": [
    {
     "name": "stdout",
     "output_type": "stream",
     "text": [
      "Tipo: <class 'numpy.ndarray'> | Formato: (408, 256, 256, 1)\n"
     ]
    }
   ],
   "source": [
    "gt = np.stack(gt)\n",
    "pred = np.stack(pred)\n",
    "\n",
    "# Utilizado por Vitor e Eduardo\n",
    "print(f'Tipo: {type(pred)} | Formato: {pred.shape}') # Note que não há diferença no output"
   ]
  },
  {
   "cell_type": "markdown",
   "metadata": {},
   "source": [
    "#### Note que o resultado do cálculo do coeficiente Dice utilizando a versão do Vitor e Eduardo (0.6888) foi igual a utilizada na segmentação das tomografias de pulmão, enquanto a versão utilizada no trabalho do Girino apresentou resultado divergente (0.7284), que também apresentou um tempo de execução mais que 5x maior do que as outras duas versões."
   ]
  },
  {
   "cell_type": "markdown",
   "metadata": {},
   "source": [
    "##### Cálculo Dice (Versão Eduardo e Vitor)"
   ]
  },
  {
   "cell_type": "code",
   "execution_count": 27,
   "metadata": {},
   "outputs": [],
   "source": [
    "from keras import *"
   ]
  },
  {
   "cell_type": "code",
   "execution_count": 28,
   "metadata": {},
   "outputs": [],
   "source": [
    "\n",
    "def dice_coef(y_true, y_pred):\n",
    "    y_true_f = backend.flatten(y_true)\n",
    "    y_pred_f = backend.flatten(y_pred)\n",
    "    intersection = backend.sum(y_true_f * y_pred_f)\n",
    "    return (2.*intersection+1)/(backend.sum(y_true_f)+backend.sum(y_pred_f)+1)"
   ]
  },
  {
   "cell_type": "code",
   "execution_count": 50,
   "metadata": {},
   "outputs": [
    {
     "name": "stdout",
     "output_type": "stream",
     "text": [
      "Coeficiente Dice (Eduardo e Vitor): 0.6888157729909007\n"
     ]
    }
   ],
   "source": [
    "dice = dice_coef(gt, pred)\n",
    "dice = str(dice).split(',')[0].split('(')[1]\n",
    "print(f'Coeficiente Dice (Eduardo e Vitor): {dice}')"
   ]
  },
  {
   "cell_type": "markdown",
   "metadata": {},
   "source": [
    "##### Cálculo Dice (Girino Version)"
   ]
  },
  {
   "cell_type": "code",
   "execution_count": 30,
   "metadata": {},
   "outputs": [],
   "source": [
    "from sklearn.metrics import jaccard_score"
   ]
  },
  {
   "cell_type": "code",
   "execution_count": 31,
   "metadata": {},
   "outputs": [],
   "source": [
    "def jaccard_coef(y_true, y_pred):\n",
    "    \n",
    "    # Recebe dois 2d-array de bool\n",
    "    \n",
    "    # array_true = asarray(y_true)\n",
    "    # array_pred = asarray(y_pred)\n",
    "    iou = jaccard_score(y_true.flatten(),y_pred.flatten())\n",
    "    return iou\n",
    "\n",
    "\n",
    "def dice_coef_2(y_true, y_pred):\n",
    "    \n",
    "    # Recebe dois 2d-array de bool\n",
    "    \n",
    "    iou = jaccard_coef(y_true, y_pred)\n",
    "    dice = (2*iou)/(iou+1)\n",
    "    return dice\n",
    "\n",
    "\n",
    "def calcula_metricas(Y_test, predicao):\n",
    "    \n",
    "    # Recebe predicao e Y_test (no padrao keras, do tipo (78, 256, 256, 1) )\n",
    "    \n",
    "    # Reshape e transforma em boolean\n",
    "    Y_test = Y_test[:,:,:,0]\n",
    "    Y_test_bool = Y_test > 0.5 #\n",
    "    \n",
    "    # Reshape e transforma em boolean\n",
    "    predicao = predicao[:,:,:,0] #\n",
    "    predicao_bool = predicao > 0.5 #\n",
    "    \n",
    "    #iou = np.zeros(predicao.shape[0])\n",
    "    #dice = np.zeros(predicao.shape[0])\n",
    "    \n",
    "    iou_list = []\n",
    "    dice_list = []\n",
    "    \n",
    "    for i in range(predicao.shape[0]):\n",
    "        iou_list.append(jaccard_coef(Y_test_bool[i], predicao_bool[i]))\n",
    "        dice_list.append(dice_coef_2(Y_test_bool[i], predicao_bool[i]))\n",
    "    \n",
    "    return dice_list"
   ]
  },
  {
   "cell_type": "code",
   "execution_count": 51,
   "metadata": {},
   "outputs": [
    {
     "name": "stdout",
     "output_type": "stream",
     "text": [
      "Coeficiente Dice (Versão do Laboratório): 0.7284\n"
     ]
    }
   ],
   "source": [
    "# Calcula iou e dice para todas as imagens deste fold (i)\n",
    "dice_list = []\n",
    "dice_list = calcula_metricas(gt, pred)  \n",
    "\n",
    "#estatística\n",
    "mean = round(np.mean(dice_list), 4)\n",
    "print(f'Coeficiente Dice (Versão do Laboratório): {mean}')"
   ]
  },
  {
   "cell_type": "markdown",
   "metadata": {},
   "source": [
    "##### Cálculo Dice (Lung Version)"
   ]
  },
  {
   "cell_type": "code",
   "execution_count": 33,
   "metadata": {},
   "outputs": [],
   "source": [
    "import keras.backend as K"
   ]
  },
  {
   "cell_type": "code",
   "execution_count": 34,
   "metadata": {},
   "outputs": [],
   "source": [
    "def dice_coef_lung(y_true, y_pred): #Sørensen–Dice coefficient\n",
    "    y_true_f = K.flatten(y_true) #transformando em unidimensional\n",
    "    y_pred_f = K.flatten(y_pred) #transformando em unidimensional\n",
    "    intersection = K.sum(y_true_f * y_pred_f)\n",
    "    return (2. * intersection + \\\n",
    "        K.epsilon()) / (K.sum(y_true_f) + K.sum(y_pred_f) + K.epsilon())"
   ]
  },
  {
   "cell_type": "code",
   "execution_count": 55,
   "metadata": {},
   "outputs": [
    {
     "name": "stdout",
     "output_type": "stream",
     "text": [
      "Coeficiente Dice (Versão usada com as tomografias de pulmão): 0.6888156171481549\n"
     ]
    }
   ],
   "source": [
    "dice = dice_coef_lung(gt, pred)\n",
    "dice = str(dice).split(',')[0].split('(')[1]\n",
    "print(f'Coeficiente Dice (Versão usada com as tomografias de pulmão): {dice}')"
   ]
  }
 ],
 "metadata": {
  "kernelspec": {
   "display_name": "Python 3.8.6 64-bit",
   "language": "python",
   "name": "python3"
  },
  "language_info": {
   "codemirror_mode": {
    "name": "ipython",
    "version": 3
   },
   "file_extension": ".py",
   "mimetype": "text/x-python",
   "name": "python",
   "nbconvert_exporter": "python",
   "pygments_lexer": "ipython3",
   "version": "3.8.6"
  },
  "orig_nbformat": 4,
  "vscode": {
   "interpreter": {
    "hash": "ce49d75d664714c9cdbfe0585b0b7902633ae41f45bc5554d08d9dd78a3267a6"
   }
  }
 },
 "nbformat": 4,
 "nbformat_minor": 2
}

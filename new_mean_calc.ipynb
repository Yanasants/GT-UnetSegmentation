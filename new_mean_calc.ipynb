{
 "cells": [
  {
   "cell_type": "markdown",
   "metadata": {},
   "source": [
    "#### Calculating Dice Coefficient"
   ]
  },
  {
   "cell_type": "code",
   "execution_count": 5,
   "metadata": {},
   "outputs": [],
   "source": [
    "import numpy as np\n",
    "import glob\n",
    "\n",
    "from utils import load_images_array\n",
    "from dice_ev import dice_coef"
   ]
  },
  {
   "cell_type": "code",
   "execution_count": null,
   "metadata": {},
   "outputs": [],
   "source": [
    "TEMPO = []\n",
    "ORIGINAL_SIZE = 850\n",
    "NEW_SIZE = 256\n",
    "\n",
    "# Choose train folder TM40 ou TM46\n",
    "_folder = './TM40_Original'\n",
    "\n",
    "GT_imgs = sorted(glob.glob(_folder + '/GT_images/*'))\n",
    "pred_imgs = sorted(glob.glob('predict_path/*'))\n",
    "\n",
    "gt = load_images_array(GT_imgs, new_size = NEW_SIZE)\n",
    "pred = load_images_array(pred_imgs, new_size = NEW_SIZE)"
   ]
  },
  {
   "cell_type": "code",
   "execution_count": null,
   "metadata": {},
   "outputs": [],
   "source": [
    "print(type(pred)) "
   ]
  },
  {
   "cell_type": "code",
   "execution_count": null,
   "metadata": {},
   "outputs": [],
   "source": [
    "gt = np.stack(gt)\n",
    "pred = np.stack(pred)"
   ]
  },
  {
   "cell_type": "code",
   "execution_count": null,
   "metadata": {},
   "outputs": [],
   "source": [
    "print(type(pred)) # Verificar se há mudança de tipo, caso não, o stack pode ser retirado"
   ]
  },
  {
   "cell_type": "code",
   "execution_count": null,
   "metadata": {},
   "outputs": [],
   "source": [
    "dice = dice_coef(gt, pred)\n",
    "print(dice)\n",
    "#dc1 = dice_coef(y_new.astype('float32'), y_pred1.astype('float32'))"
   ]
  }
 ],
 "metadata": {
  "kernelspec": {
   "display_name": "Python 3.8.6 64-bit",
   "language": "python",
   "name": "python3"
  },
  "language_info": {
   "codemirror_mode": {
    "name": "ipython",
    "version": 3
   },
   "file_extension": ".py",
   "mimetype": "text/x-python",
   "name": "python",
   "nbconvert_exporter": "python",
   "pygments_lexer": "ipython3",
   "version": "3.8.6"
  },
  "orig_nbformat": 4,
  "vscode": {
   "interpreter": {
    "hash": "ce49d75d664714c9cdbfe0585b0b7902633ae41f45bc5554d08d9dd78a3267a6"
   }
  }
 },
 "nbformat": 4,
 "nbformat_minor": 2
}
